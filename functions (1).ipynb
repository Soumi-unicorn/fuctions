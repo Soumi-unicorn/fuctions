{
  "nbformat": 4,
  "nbformat_minor": 0,
  "metadata": {
    "colab": {
      "provenance": []
    },
    "kernelspec": {
      "name": "python3",
      "display_name": "Python 3"
    },
    "language_info": {
      "name": "python"
    }
  },
  "cells": [
    {
      "cell_type": "code",
      "execution_count": null,
      "metadata": {
        "id": "9PFIDzQoLk3h"
      },
      "outputs": [],
      "source": []
    },
    {
      "cell_type": "markdown",
      "source": [
        "What is the difference between a function and a method in Python?\n",
        "\n",
        "Ans.A function is a block of reusable code defined using the def keyword. It can exist independently and is not tied to any specific object.\n",
        "A method is a function that is associated with an object and is defined within a class. A function is called directly using its name (e.g., function_name()).\n",
        "A method is called on an object using dot notation (e.g., object.method_name()).A function does not require an instance of a class unless explicitly passed.\n",
        "A method automatically receives the instance (commonly named self) or class (commonly named cls) as its first argument."
      ],
      "metadata": {
        "id": "zbJmrxdGL1h7"
      }
    },
    {
      "cell_type": "markdown",
      "source": [
        "2.Explain the concept of function arguments and parameters in Python.\n",
        "Ans:- Definition:\n",
        "\n",
        "Parameters are placeholders defined in a function’s declaration to receive values when the function is called.\n",
        "Arguments are the actual values or data passed to a function when it is called.  \n",
        "Positional parameters: Standard parameters defined in a function (e.g., def greet(name):).\n",
        "Default parameters: Parameters with default values (e.g., def greet(name=\"Guest\"):).\n",
        "Arbitrary parameters: Allows multiple arguments using *args (non-keyworded) and **kwargs (keyworded).\n",
        "\n",
        "\n",
        "\n",
        "3.What are the different ways to define and call a function in Python?\n",
        "Ans:- Use the def keyword with a name and optional parameters.\n",
        "Example:\n",
        "\n",
        "def greet(name):\n",
        "    return f\"Hello, {name}!\"\n",
        "Lambda Function: Define a single-expression anonymous function using the lambda keyword.\n",
        "\n",
        "add = lambda x, y: x + y\n",
        "Calling a Function:\n",
        "\n",
        "With Positional Arguments: Pass arguments in the order defined.\n",
        "\n",
        "greet(\"Alice\")\n",
        "With Keyword Arguments: Specify arguments by name.\n",
        "\n",
        "greet(name=\"Alice\")\n",
        "Advanced Calls:\n",
        "\n",
        "Using Arbitrary Arguments: Pass multiple values using *args or **kwargs.\n",
        "\n",
        "def display(*args, **kwargs):\n",
        "    print(args, kwargs)\n",
        "display(1, 2, 3, a=4, b=5).\n",
        "\n",
        "\n",
        "4. What is the purpose of the `return` statement in a Python function?\n",
        "Ans:-The return statement is used to send a value or result from a function to the caller.\n",
        "Example:\n",
        "\n",
        "def add(a, b):\n",
        "    return a + b\n",
        "result = add(3, 5)  # result will be 8\n",
        "End Function Execution:\n",
        "\n",
        "The return statement terminates the function execution immediately, and any code after return is not executed.\n",
        "Example:\n",
        "\n",
        "def example():\n",
        "    return \"Done\"\n",
        "    print(\"This will not execute\")\n",
        "Return Nothing (None):\n",
        "\n",
        "If no value is specified after return, or if return is omitted, the function returns None by default.\n",
        "Example:\n",
        "\n",
        "def greet():\n",
        "    return\n",
        "print(greet())  # Output: None\n",
        "\n",
        "5. What are iterators in Python and how do they differ from iterables?\n",
        "Ans:-An iterable is any object capable of returning its elements one at a time, such as lists, tuples, or strings. It has an __iter__() method that returns an iterator.\n",
        "An iterator is an object representing a stream of data that can be iterated over. It has both __iter__() and __next__() methods.\n",
        "Key Difference:\n",
        "\n",
        "Iterable: Can be looped over (e.g., using a for loop), but does not store an internal state for iteration.\n",
        "Iterator: Keeps track of its current position during iteration and produces the next element on demand using __next__().\n",
        "Examples:\n",
        "\n",
        "Iterable:\n",
        "\n",
        "my_list = [1, 2, 3]  # A list is an iterable\n",
        "for item in my_list:\n",
        "    print(item)\n",
        "Iterator:\n",
        "\n",
        "my_iterator = iter(my_list)  # Converting the list into an iterator\n",
        "print(next(my_iterator))  # Output: 1\n",
        "print(next(my_iterator))  # Output: 2\n",
        "\n",
        "\n",
        "6. Explain the concept of generators in Python and how they are defined.\n",
        "Ans:-Generators are a special type of iterator that allows you to iterate over a sequence of values one at a time, lazily producing them on demand instead of storing them in memory all at once.\n",
        "Generators are defined using functions and the yield keyword.\n",
        "The yield statement is used to produce a value and pause the function’s state so it can resume later. Lazy Evaluation: Generators produce items only when needed, saving memory.\n",
        "State Retention: The generator retains its state between yield calls.\n",
        "Single Iteration: Generators can be iterated over only once.\n",
        "\n",
        "7. What are the advantages of using generators over regular functions?\n",
        "Ans:-Generators produce items lazily, meaning they generate values one at a time on demand instead of storing the entire result in memory. This makes them ideal for working with large datasets or infinite sequences.Since generators do not compute all values upfront, they can provide results faster for the initial iterations and reduce processing time for large computations.Generators maintain their state between yield calls, allowing them to resume execution exactly where they left off. This simplifies managing intermediate states in iterative algorithms.Using yield in generators makes complex iteration logic (like building custom iterators) more concise and readable compared to implementing classes with __iter__ and __next__ methods.\n",
        "\n",
        "\n",
        "\n",
        "\n",
        "8. What is a lambda function in Python and when is it typically used?\n",
        "Ans:-A lambda function is a small, anonymous function defined using the lambda keyword.\n",
        "It can have any number of arguments but only a single expression, which is implicitly returned.Syntax:\n",
        "\n",
        "\n",
        "lambda arguments: expression\n",
        "Example:\n",
        "\n",
        "\n",
        "square = lambda x: x**2\n",
        "print(square(4))  # Output: 16\n",
        "2. When is it Typically Used?\n",
        "Lambda functions are often used in situations where short, simple functions are needed temporarily, such as:\n",
        "\n",
        "a. In Functional Programming:\n",
        "Used with functions like map(), filter(), and reduce(). Example:\n",
        "\n",
        "numbers = [1, 2, 3, 4]\n",
        "squared = map(lambda x: x**2, numbers)\n",
        "print(list(squared))  # Output: [1, 4, 9, 16]\n",
        "b. As Inline Callbacks:\n",
        "Often passed as arguments to higher-order functions. Example:\n",
        "\n",
        "pairs = [(1, 2), (3, 1), (5, 0)]\n",
        "pairs.sort(key=lambda x: x[1])  # Sort by the second element\n",
        "print(pairs)  # Output: [(5, 0), (3, 1), (1, 2)]\n",
        "c. For Short and Simple Functions:\n",
        "Used in place of defining a full function when brevity is preferred. Example:\n",
        "\n",
        "is_even = lambda x: x % 2 == 0\n",
        "print(is_even(4))  # Output: True\n",
        "3. Limitations:\n",
        "Limited to a single expression, making them unsuitable for complex logic.\n",
        "Lack of a proper name can make debugging harder.\n",
        "\n",
        "\n",
        "9. Explain the purpose and usage of the `map()` function in Python.\n",
        "Ans:-The map() function in Python is used to apply a given function to each item of an iterable (e.g., list, tuple) and return a map object (an iterator) containing the results. function: A function to apply to each element of the iterable.\n",
        "iterable: One or more iterables whose elements the function will process.\n",
        "\n",
        "\n",
        "10. What is the difference between `map()`, `reduce()`, and `filter()` functions in Python?\n",
        "\n",
        "Ans:- map():\n",
        "Purpose: Applies a given function to each item in an iterable (or multiple iterables) and returns an iterator of the results.\n",
        "Output: A map object (iterator), which can be converted to a list or another iterable type.\n",
        "Use case: When you need to apply a transformation to all items in an iterable.\n",
        "reduce():\n",
        "Purpose: Applies a function of two arguments cumulatively to the items of an iterable (from left to right), reducing the iterable to a single value.\n",
        "Output: A single value (result of the cumulative operation).\n",
        "Use case: When you need to reduce a collection of items to a single result, such as summing all elements or finding a product.\n",
        "filter():\n",
        "Purpose: Filters the elements of an iterable based on a condition specified by a function, returning only those items that evaluate to True.\n",
        "Output: A filter object (iterator), which can be converted to a list or another iterable type.\n",
        "Use case: When you need to filter items from an iterable based on a condition.\n",
        "map(): Transforms each item in an iterable based on the given function.\n",
        "reduce(): Applies a function cumulatively to reduce the iterable to a single value.\n",
        "filter(): Filters elements based on a given condition, returning only those that evaluate to True.\n",
        "\n",
        "\n",
        "11.Using pen & Paper write the internal mechanism for sum operation using  reduce function on this given\n",
        "list:[47,11,42,13];\n",
        "\n",
        "Ans:To demonstrate how the reduce() function works internally for a sum operation on the list [47, 11, 42, 13], let's break it down step by step.\n",
        "\n",
        "1. Initial Setup:\n",
        "We will use the reduce() function from the functools module in Python to sum the elements of the list. The function is applied cumulatively to the items in the list.\n",
        "\n",
        "Syntax:\n",
        "\n",
        "\n",
        "from functools import reduce\n",
        "reduce(function, iterable)\n",
        "Where:\n",
        "\n",
        "function is a function that takes two arguments and returns a single value (in this case, the addition operator lambda x, y: x + y).\n",
        "iterable is the list we want to sum, which is [47, 11, 42, 13].\n",
        "2. Step-by-Step Execution:\n",
        "Step 1: Apply the function to the first two elements:\n",
        "\n",
        "Start with the first two numbers in the list: 47 and 11.\n",
        "Apply the function: 47 + 11 = 58\n",
        "Now, the result is 58, and we move to the next element (42).\n",
        "Step 2: Apply the function to the result from Step 1 and the next element:\n",
        "\n",
        "Now, the result is 58, and the next number is 42.\n",
        "Apply the function: 58 + 42 = 100\n",
        "Now, the result is 100, and we move to the next element (13).\n",
        "Step 3: Apply the function to the result from Step 2 and the next element:\n",
        "\n",
        "Now, the result is 100, and the next number is 13.\n",
        "Apply the function: 100 + 13 = 113\n",
        "3. Final Result:\n",
        "After applying the reduce() function to all the elements, the final sum is 113.\n",
        "\n",
        "\n",
        "Starting with the first two elements: 47 and 11 → Result: 58\n",
        "Applying the function to 58 and 42 → Result: 100\n",
        "Applying the function to 100 and 13 → Result: 113\n",
        "Thus, the result of reduce(lambda x, y: x + y, [47, 11, 42, 13]) is 113.\n",
        "\n",
        "\n",
        "\n",
        "\n",
        "\n",
        "\n",
        "\n",
        "\n",
        "\n",
        "\n",
        "\n",
        "\n",
        "\n",
        "\n",
        "\n",
        "\n",
        "\n",
        "\n",
        "\n",
        "\n",
        "\n",
        "\n",
        "\n",
        "\n",
        "\n",
        "\n",
        "\n",
        "\n",
        "\n"
      ],
      "metadata": {
        "id": "AYiZHWseMSEf"
      }
    },
    {
      "cell_type": "code",
      "source": [
        "#1. Write a Python function that takes a list of numbers as input and returns the sum of all even numbers in\n",
        "#the list.\n",
        "\n",
        "\n",
        "def sum_even_numbers(numbers):\n",
        "    sum_even = 0\n",
        "    for num in numbers:\n",
        "        if num % 2 == 0:\n",
        "            sum_even += num\n",
        "    return sum_even\n",
        "numbers = [1, 2, 3, 4, 5, 6]\n",
        "result = sum_even_numbers(numbers)\n",
        "print(result)"
      ],
      "metadata": {
        "colab": {
          "base_uri": "https://localhost:8080/"
        },
        "id": "X4GupNMpV0M0",
        "outputId": "05d10c41-7f1c-4d96-c612-0dbf09fe7350"
      },
      "execution_count": 2,
      "outputs": [
        {
          "output_type": "stream",
          "name": "stdout",
          "text": [
            "12\n"
          ]
        }
      ]
    },
    {
      "cell_type": "code",
      "source": [
        "\n",
        "\n",
        "#2. Create a Python function that accepts a string and returns the reverse of that string.\n",
        "\n",
        "\n",
        "def reverse_string(s):\n",
        "    return s[::-1]\n",
        "\n",
        "\n",
        "input_string = \"hello\"\n",
        "reversed_string = reverse_string(input_string)\n",
        "print(reversed_string)"
      ],
      "metadata": {
        "colab": {
          "base_uri": "https://localhost:8080/"
        },
        "id": "pHKY1AO5XJVA",
        "outputId": "0ecbca03-7630-4101-8aa1-4e0835413f6c"
      },
      "execution_count": 5,
      "outputs": [
        {
          "output_type": "stream",
          "name": "stdout",
          "text": [
            "olleh\n"
          ]
        }
      ]
    },
    {
      "cell_type": "code",
      "source": [
        "#3. Implement a Python function that takes a list of integers and returns a new list containing the squares of\n",
        "#each number\n",
        "\n",
        "\n",
        "def square_numbers(numbers):\n",
        "    return [number ** 2 for number in numbers]\n",
        "\n",
        "\n",
        "numbers = [1, 2, 3, 4, 5]\n",
        "squared_numbers = square_numbers(numbers)\n",
        "print(squared_numbers)  # Output: [1, 4, 9, 16, 25]\n"
      ],
      "metadata": {
        "colab": {
          "base_uri": "https://localhost:8080/"
        },
        "id": "_-VB7sAJYA7U",
        "outputId": "646c22c8-ad9f-4d7e-f5fe-38b5ad404911"
      },
      "execution_count": 6,
      "outputs": [
        {
          "output_type": "stream",
          "name": "stdout",
          "text": [
            "[1, 4, 9, 16, 25]\n"
          ]
        }
      ]
    },
    {
      "cell_type": "code",
      "source": [
        "#4. Write a Python function that checks if a given number is prime or not from 1 to 200.\n",
        "\n",
        "\n",
        "def is_prime(number):\n",
        "    if number < 2:\n",
        "        return False\n",
        "    for i in range(2, int(number ** 0.5) + 1):\n",
        "        if number % i == 0:\n",
        "            return False\n",
        "    return True\n",
        "\n",
        "\n",
        "for num in range(1, 201):\n",
        "    if is_prime(num):\n",
        "        print(f\"{num} is prime.\")\n"
      ],
      "metadata": {
        "colab": {
          "base_uri": "https://localhost:8080/"
        },
        "id": "lwkRt-piYorF",
        "outputId": "d55213bf-3bf0-445f-ef84-ff42d2577685"
      },
      "execution_count": 7,
      "outputs": [
        {
          "output_type": "stream",
          "name": "stdout",
          "text": [
            "2 is prime.\n",
            "3 is prime.\n",
            "5 is prime.\n",
            "7 is prime.\n",
            "11 is prime.\n",
            "13 is prime.\n",
            "17 is prime.\n",
            "19 is prime.\n",
            "23 is prime.\n",
            "29 is prime.\n",
            "31 is prime.\n",
            "37 is prime.\n",
            "41 is prime.\n",
            "43 is prime.\n",
            "47 is prime.\n",
            "53 is prime.\n",
            "59 is prime.\n",
            "61 is prime.\n",
            "67 is prime.\n",
            "71 is prime.\n",
            "73 is prime.\n",
            "79 is prime.\n",
            "83 is prime.\n",
            "89 is prime.\n",
            "97 is prime.\n",
            "101 is prime.\n",
            "103 is prime.\n",
            "107 is prime.\n",
            "109 is prime.\n",
            "113 is prime.\n",
            "127 is prime.\n",
            "131 is prime.\n",
            "137 is prime.\n",
            "139 is prime.\n",
            "149 is prime.\n",
            "151 is prime.\n",
            "157 is prime.\n",
            "163 is prime.\n",
            "167 is prime.\n",
            "173 is prime.\n",
            "179 is prime.\n",
            "181 is prime.\n",
            "191 is prime.\n",
            "193 is prime.\n",
            "197 is prime.\n",
            "199 is prime.\n"
          ]
        }
      ]
    },
    {
      "cell_type": "code",
      "source": [
        "#5. Create an iterator class in Python that generates the Fibonacci sequence up to a specified number of\n",
        "#terms.\n",
        "\n",
        "class FibonacciIterator:\n",
        "    def __init__(self, n):\n",
        "        self.n = n  # The number of terms in the Fibonacci sequence\n",
        "        self.a, self.b = 0, 1  # The first two terms of the Fibonacci sequence\n",
        "        self.count = 0  # To track the number of terms generated\n",
        "\n",
        "    def __iter__(self):\n",
        "        return self  # The iterator object itself\n",
        "\n",
        "    def __next__(self):\n",
        "        if self.count >= self.n:\n",
        "            raise StopIteration  # Stop the iteration if we've reached the desired number of terms\n",
        "        else:\n",
        "            fib_number = self.a\n",
        "            self.a, self.b = self.b, self.a + self.b  # Update to the next Fibonacci numbers\n",
        "            self.count += 1\n",
        "            return fib_number\n",
        "\n",
        "# Example usage:\n",
        "fib_iterator = FibonacciIterator(10)  # Generate first 10 Fibonacci numbers\n",
        "for num in fib_iterator:\n",
        "    print(num)\n"
      ],
      "metadata": {
        "colab": {
          "base_uri": "https://localhost:8080/"
        },
        "id": "RenmdZUlaO0r",
        "outputId": "579f8c40-c477-4668-e6fb-35b1fb436fb8"
      },
      "execution_count": 8,
      "outputs": [
        {
          "output_type": "stream",
          "name": "stdout",
          "text": [
            "0\n",
            "1\n",
            "1\n",
            "2\n",
            "3\n",
            "5\n",
            "8\n",
            "13\n",
            "21\n",
            "34\n"
          ]
        }
      ]
    },
    {
      "cell_type": "code",
      "source": [
        "#6. Write a generator function in Python that yields the powers of 2 up to a given exponent.\n",
        "\n",
        "def powers_of_two(exponent):\n",
        "    for i in range(exponent + 1):\n",
        "        yield 2 ** i\n",
        "\n",
        "# Example usage:\n",
        "for power in powers_of_two(5):\n",
        "    print(power)\n"
      ],
      "metadata": {
        "colab": {
          "base_uri": "https://localhost:8080/"
        },
        "id": "avsGSGoXatGs",
        "outputId": "439b6ff3-0e8e-402e-c2fd-5607485f1e5a"
      },
      "execution_count": 9,
      "outputs": [
        {
          "output_type": "stream",
          "name": "stdout",
          "text": [
            "1\n",
            "2\n",
            "4\n",
            "8\n",
            "16\n",
            "32\n"
          ]
        }
      ]
    },
    {
      "cell_type": "code",
      "source": [
        "#7. Implement a generator function that reads a file line by line and yields each line as a string.\n",
        "\n",
        "\n",
        "# Using 'w' mode (overwrites existing file or creates a new one)\n",
        "   with open(file_path, 'w') as file:\n",
        "       # Write data to the file\n",
        "       file.write(\"This is some text.\")\n",
        "\n",
        "   # Using 'x' mode (creates a new file, raises an error if it exists)\n",
        "   with open(file_path, 'x') as file:\n",
        "       # Write data to the file\n",
        "       file.write(\"This is some text.\")\n",
        "\n",
        "\n"
      ],
      "metadata": {
        "colab": {
          "base_uri": "https://localhost:8080/",
          "height": 315
        },
        "id": "vcVPGZN4bGpF",
        "outputId": "cd2914aa-304f-4cf2-a9f2-5a1beea1b7e1"
      },
      "execution_count": 10,
      "outputs": [
        {
          "output_type": "error",
          "ename": "FileNotFoundError",
          "evalue": "[Errno 2] No such file or directory: 'example.txt'",
          "traceback": [
            "\u001b[0;31m---------------------------------------------------------------------------\u001b[0m",
            "\u001b[0;31mFileNotFoundError\u001b[0m                         Traceback (most recent call last)",
            "\u001b[0;32m<ipython-input-10-438cfdb6596d>\u001b[0m in \u001b[0;36m<cell line: 0>\u001b[0;34m()\u001b[0m\n\u001b[1;32m      9\u001b[0m \u001b[0;31m# Example usage:\u001b[0m\u001b[0;34m\u001b[0m\u001b[0;34m\u001b[0m\u001b[0m\n\u001b[1;32m     10\u001b[0m \u001b[0mfile_path\u001b[0m \u001b[0;34m=\u001b[0m \u001b[0;34m'example.txt'\u001b[0m  \u001b[0;31m# Specify your file path\u001b[0m\u001b[0;34m\u001b[0m\u001b[0;34m\u001b[0m\u001b[0m\n\u001b[0;32m---> 11\u001b[0;31m \u001b[0;32mfor\u001b[0m \u001b[0mline\u001b[0m \u001b[0;32min\u001b[0m \u001b[0mread_file_line_by_line\u001b[0m\u001b[0;34m(\u001b[0m\u001b[0mfile_path\u001b[0m\u001b[0;34m)\u001b[0m\u001b[0;34m:\u001b[0m\u001b[0;34m\u001b[0m\u001b[0;34m\u001b[0m\u001b[0m\n\u001b[0m\u001b[1;32m     12\u001b[0m     \u001b[0mprint\u001b[0m\u001b[0;34m(\u001b[0m\u001b[0mline\u001b[0m\u001b[0;34m)\u001b[0m\u001b[0;34m\u001b[0m\u001b[0;34m\u001b[0m\u001b[0m\n",
            "\u001b[0;32m<ipython-input-10-438cfdb6596d>\u001b[0m in \u001b[0;36mread_file_line_by_line\u001b[0;34m(file_path)\u001b[0m\n\u001b[1;32m      3\u001b[0m \u001b[0;34m\u001b[0m\u001b[0m\n\u001b[1;32m      4\u001b[0m \u001b[0;32mdef\u001b[0m \u001b[0mread_file_line_by_line\u001b[0m\u001b[0;34m(\u001b[0m\u001b[0mfile_path\u001b[0m\u001b[0;34m)\u001b[0m\u001b[0;34m:\u001b[0m\u001b[0;34m\u001b[0m\u001b[0;34m\u001b[0m\u001b[0m\n\u001b[0;32m----> 5\u001b[0;31m     \u001b[0;32mwith\u001b[0m \u001b[0mopen\u001b[0m\u001b[0;34m(\u001b[0m\u001b[0mfile_path\u001b[0m\u001b[0;34m,\u001b[0m \u001b[0;34m'r'\u001b[0m\u001b[0;34m)\u001b[0m \u001b[0;32mas\u001b[0m \u001b[0mfile\u001b[0m\u001b[0;34m:\u001b[0m\u001b[0;34m\u001b[0m\u001b[0;34m\u001b[0m\u001b[0m\n\u001b[0m\u001b[1;32m      6\u001b[0m         \u001b[0;32mfor\u001b[0m \u001b[0mline\u001b[0m \u001b[0;32min\u001b[0m \u001b[0mfile\u001b[0m\u001b[0;34m:\u001b[0m\u001b[0;34m\u001b[0m\u001b[0;34m\u001b[0m\u001b[0m\n\u001b[1;32m      7\u001b[0m             \u001b[0;32myield\u001b[0m \u001b[0mline\u001b[0m\u001b[0;34m.\u001b[0m\u001b[0mstrip\u001b[0m\u001b[0;34m(\u001b[0m\u001b[0;34m)\u001b[0m  \u001b[0;31m# Strip any trailing newlines or extra spaces\u001b[0m\u001b[0;34m\u001b[0m\u001b[0;34m\u001b[0m\u001b[0m\n",
            "\u001b[0;31mFileNotFoundError\u001b[0m: [Errno 2] No such file or directory: 'example.txt'"
          ]
        }
      ]
    },
    {
      "cell_type": "code",
      "source": [
        "#8. Use a lambda function in Python to sort a list of tuples based on the second element of each tuple.\n",
        "\n",
        "\n",
        "\n",
        "\n",
        "tuples_list = [(1, 3), (2, 1), (4, 2), (3, 4)]\n",
        "\n",
        "# Sorting using a lambda function based on the second element of each tuple\n",
        "sorted_list = sorted(tuples_list, key=lambda x: x[1])\n",
        "\n",
        "# Output the sorted list\n",
        "print(sorted_list)"
      ],
      "metadata": {
        "colab": {
          "base_uri": "https://localhost:8080/"
        },
        "id": "6S1M_OJ6bz7A",
        "outputId": "99babe1f-3ed7-4530-ac72-ea6929028f64"
      },
      "execution_count": 11,
      "outputs": [
        {
          "output_type": "stream",
          "name": "stdout",
          "text": [
            "[(2, 1), (4, 2), (1, 3), (3, 4)]\n"
          ]
        }
      ]
    },
    {
      "cell_type": "code",
      "source": [
        "\n",
        "\n",
        "\n",
        "#9. Write a Python program that uses `map()` to convert a list of temperatures from Celsius to Fahrenheit.\n",
        "\n",
        "\n",
        "\n",
        "celsius_list = [0, 20, 30, 40, 100]\n",
        "# Use the built-in 'list' function\n",
        "fahrenheit_temperatures = list(map(lambda c: (c * 9/5) + 32, celsius_list))\n",
        "\n",
        "print(fahrenheit_temperatures)\n",
        "\n",
        "\n"
      ],
      "metadata": {
        "colab": {
          "base_uri": "https://localhost:8080/",
          "height": 211
        },
        "id": "1Y2BIJoRcJGe",
        "outputId": "624f372f-980f-4745-8205-70dde79b23e8"
      },
      "execution_count": 18,
      "outputs": [
        {
          "output_type": "error",
          "ename": "TypeError",
          "evalue": "'list' object is not callable",
          "traceback": [
            "\u001b[0;31m---------------------------------------------------------------------------\u001b[0m",
            "\u001b[0;31mTypeError\u001b[0m                                 Traceback (most recent call last)",
            "\u001b[0;32m<ipython-input-18-6dc137c348f3>\u001b[0m in \u001b[0;36m<cell line: 0>\u001b[0;34m()\u001b[0m\n\u001b[1;32m      5\u001b[0m \u001b[0mcelsius_list\u001b[0m \u001b[0;34m=\u001b[0m \u001b[0;34m[\u001b[0m\u001b[0;36m0\u001b[0m\u001b[0;34m,\u001b[0m \u001b[0;36m20\u001b[0m\u001b[0;34m,\u001b[0m \u001b[0;36m30\u001b[0m\u001b[0;34m,\u001b[0m \u001b[0;36m40\u001b[0m\u001b[0;34m,\u001b[0m \u001b[0;36m100\u001b[0m\u001b[0;34m]\u001b[0m\u001b[0;34m\u001b[0m\u001b[0;34m\u001b[0m\u001b[0m\n\u001b[1;32m      6\u001b[0m \u001b[0;31m# Use the built-in 'list' function\u001b[0m\u001b[0;34m\u001b[0m\u001b[0;34m\u001b[0m\u001b[0m\n\u001b[0;32m----> 7\u001b[0;31m \u001b[0mfahrenheit_temperatures\u001b[0m \u001b[0;34m=\u001b[0m \u001b[0mlist\u001b[0m\u001b[0;34m(\u001b[0m\u001b[0mmap\u001b[0m\u001b[0;34m(\u001b[0m\u001b[0;32mlambda\u001b[0m \u001b[0mc\u001b[0m\u001b[0;34m:\u001b[0m \u001b[0;34m(\u001b[0m\u001b[0mc\u001b[0m \u001b[0;34m*\u001b[0m \u001b[0;36m9\u001b[0m\u001b[0;34m/\u001b[0m\u001b[0;36m5\u001b[0m\u001b[0;34m)\u001b[0m \u001b[0;34m+\u001b[0m \u001b[0;36m32\u001b[0m\u001b[0;34m,\u001b[0m \u001b[0mcelsius_list\u001b[0m\u001b[0;34m)\u001b[0m\u001b[0;34m)\u001b[0m\u001b[0;34m\u001b[0m\u001b[0;34m\u001b[0m\u001b[0m\n\u001b[0m\u001b[1;32m      8\u001b[0m \u001b[0;34m\u001b[0m\u001b[0m\n\u001b[1;32m      9\u001b[0m \u001b[0mprint\u001b[0m\u001b[0;34m(\u001b[0m\u001b[0mfahrenheit_temperatures\u001b[0m\u001b[0;34m)\u001b[0m\u001b[0;34m\u001b[0m\u001b[0;34m\u001b[0m\u001b[0m\n",
            "\u001b[0;31mTypeError\u001b[0m: 'list' object is not callable"
          ]
        }
      ]
    },
    {
      "cell_type": "code",
      "source": [
        "#9. Write a Python program that uses `map()` to convert a list of temperatures from Celsius to Fahrenheit.\n",
        "\n",
        "celsius_list = [0, 20, 30, 40, 100]\n",
        "\n",
        "fahrenheit_temperatures = [*map(lambda c: (c * 9/5) + 32, celsius_list)]\n",
        "\n",
        "print(fahrenheit_temperatures)"
      ],
      "metadata": {
        "colab": {
          "base_uri": "https://localhost:8080/"
        },
        "id": "mK0OwHJUdiVN",
        "outputId": "209d995f-6ec1-4154-db55-584cd43e8514"
      },
      "execution_count": 20,
      "outputs": [
        {
          "output_type": "stream",
          "name": "stdout",
          "text": [
            "[32.0, 68.0, 86.0, 104.0, 212.0]\n"
          ]
        }
      ]
    },
    {
      "cell_type": "code",
      "source": [
        "#10. Create a Python program that uses `filter()` to remove all the vowels from a given string.\n",
        "\n",
        "\n",
        "def remove_vowels(char):\n",
        "    vowels = \"aeiouAEIOU\"\n",
        "    return char not in vowels\n",
        "\n",
        "# Given string\n",
        "input_string = \"Hello, World!\"\n",
        "\n",
        "# Using filter() to remove vowels\n",
        "filtered_string = ''.join(filter(remove_vowels, input_string))\n",
        "\n",
        "# Output the result\n",
        "print(filtered_string)\n"
      ],
      "metadata": {
        "colab": {
          "base_uri": "https://localhost:8080/"
        },
        "id": "ifHSHmJfdqaI",
        "outputId": "95beaf38-34b8-4d36-eb50-b54cc6112e08"
      },
      "execution_count": 21,
      "outputs": [
        {
          "output_type": "stream",
          "name": "stdout",
          "text": [
            "Hll, Wrld!\n"
          ]
        }
      ]
    },
    {
      "cell_type": "code",
      "source": [
        "\n",
        "\n",
        "\n",
        "\n",
        "\n",
        "\n",
        "\n",
        "\n",
        "\n",
        "\n",
        "\n",
        "\n",
        "\n",
        "\n",
        "\n",
        "\n",
        "\n",
        "\n",
        "\n",
        "orders = [\n",
        "    [34587, 'Learning Python','Mark Lutz' , 40.95, 4],  # order number, product name, price per item, quantity\n",
        "    [98762, 'Programming Python','Mark Lutz', 56.80, 5],\n",
        "    [77226, 'Head First Python','Paul Berry', 32.95, 3],\n",
        "    [88112, 'Book4','Brend Kelin', 24.99, 3]\n",
        "]\n",
        "\n",
        "def calculate_order_value(order):\n",
        "    order_number = order[0]\n",
        "    price_per_item = order[3]\n",
        "    quantity = order[4]\n",
        "\n",
        "    # Calculate the product (price per item * quantity)\n",
        "    product = price_per_item * quantity\n",
        "\n",
        "\n",
        "    if product < 100:\n",
        "        product += 10\n",
        "\n",
        "    return (order_number, product)\n",
        "\n",
        "\n",
        "\n",
        "\n",
        "\n",
        "\n",
        "del list\n",
        "result = list(map(lambda order: calculate_order_value(order), orders))\n",
        "\n",
        "# Print the result\n",
        "print(result)\n"
      ],
      "metadata": {
        "colab": {
          "base_uri": "https://localhost:8080/"
        },
        "id": "jeNbYxyoeQLl",
        "outputId": "dc0adee9-e190-4b02-c19f-3e595a34e1c0"
      },
      "execution_count": 36,
      "outputs": [
        {
          "output_type": "stream",
          "name": "stdout",
          "text": [
            "[(34587, 163.8), (98762, 284.0), (77226, 108.85000000000001), (88112, 84.97)]\n"
          ]
        }
      ]
    },
    {
      "cell_type": "code",
      "source": [
        "help.keyword()"
      ],
      "metadata": {
        "colab": {
          "base_uri": "https://localhost:8080/",
          "height": 141
        },
        "id": "xWV4yS98exFt",
        "outputId": "20172dd0-92c0-4318-a012-86dc9e7fdb2d"
      },
      "execution_count": 24,
      "outputs": [
        {
          "output_type": "error",
          "ename": "AttributeError",
          "evalue": "'_Helper' object has no attribute 'keyword'",
          "traceback": [
            "\u001b[0;31m---------------------------------------------------------------------------\u001b[0m",
            "\u001b[0;31mAttributeError\u001b[0m                            Traceback (most recent call last)",
            "\u001b[0;32m<ipython-input-24-cfe806c4e061>\u001b[0m in \u001b[0;36m<cell line: 0>\u001b[0;34m()\u001b[0m\n\u001b[0;32m----> 1\u001b[0;31m \u001b[0mhelp\u001b[0m\u001b[0;34m.\u001b[0m\u001b[0mkeyword\u001b[0m\u001b[0;34m(\u001b[0m\u001b[0;34m)\u001b[0m\u001b[0;34m\u001b[0m\u001b[0;34m\u001b[0m\u001b[0m\n\u001b[0m",
            "\u001b[0;31mAttributeError\u001b[0m: '_Helper' object has no attribute 'keyword'"
          ]
        }
      ]
    }
  ]
}